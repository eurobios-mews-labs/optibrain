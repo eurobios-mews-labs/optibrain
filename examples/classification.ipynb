{
 "cells": [
  {
   "cell_type": "code",
   "execution_count": 1,
   "id": "998e3017-f7c7-4b4e-b1c9-338f12d180d0",
   "metadata": {},
   "outputs": [
    {
     "name": "stdout",
     "output_type": "stream",
     "text": [
      "C:\\Users\\Fatma\\Desktop\\Projets\\optibrain\n"
     ]
    }
   ],
   "source": [
    "cd ..\n"
   ]
  },
  {
   "cell_type": "code",
   "execution_count": 20,
   "id": "1f811173-d85f-47f6-8c75-0f50e9b59a60",
   "metadata": {},
   "outputs": [],
   "source": [
    "import matplotlib.pyplot as plt\n",
    "from sklearn import model_selection, metrics\n",
    "from sklearn.datasets import load_breast_cancer"
   ]
  },
  {
   "cell_type": "code",
   "execution_count": 21,
   "id": "4cf312dc-ec92-4412-b3f2-07f83a01ff77",
   "metadata": {},
   "outputs": [],
   "source": [
    "X, y = load_breast_cancer(return_X_y=True)"
   ]
  },
  {
   "cell_type": "code",
   "execution_count": 15,
   "id": "0d340233-52bc-4b07-85bc-67fcc4e3bfb0",
   "metadata": {},
   "outputs": [],
   "source": [
    "import pandas as pd"
   ]
  },
  {
   "cell_type": "code",
   "execution_count": 29,
   "id": "5f56f752-e2e9-4621-9201-9ff8713ae735",
   "metadata": {},
   "outputs": [],
   "source": [
    "X = pd.DataFrame(X)"
   ]
  },
  {
   "cell_type": "code",
   "execution_count": 24,
   "id": "c4eab9d7-62dc-4fd0-a4b0-8181ba8afe0f",
   "metadata": {},
   "outputs": [],
   "source": [
    "y = pd.DataFrame(y)"
   ]
  },
  {
   "cell_type": "code",
   "execution_count": 26,
   "id": "e8b3ca7b-d858-412d-8d23-55edd82b4c8f",
   "metadata": {},
   "outputs": [],
   "source": [
    "from sklearn.model_selection import train_test_split"
   ]
  },
  {
   "cell_type": "code",
   "execution_count": 31,
   "id": "e833d428-6ee7-4ae2-9cbe-15823212505b",
   "metadata": {},
   "outputs": [],
   "source": [
    "X_train, X_test, y_train, y_test = train_test_split(X, y, test_size=.2)"
   ]
  },
  {
   "cell_type": "code",
   "execution_count": 34,
   "id": "67c3e578-e5f2-4b38-bb78-ad48bd5f166b",
   "metadata": {},
   "outputs": [],
   "source": [
    "from optibrain import SurrogateModeling"
   ]
  },
  {
   "cell_type": "code",
   "execution_count": 35,
   "id": "3af4ac66-acfc-485b-8515-bf53277e8b2b",
   "metadata": {},
   "outputs": [],
   "source": [
    "srgm = SurrogateModeling(['catboost','xgboost','lgbm'], 'classification') "
   ]
  },
  {
   "cell_type": "code",
   "execution_count": 36,
   "id": "0aa021c0-862a-4525-abf7-e06cd5b505fb",
   "metadata": {},
   "outputs": [
    {
     "name": "stderr",
     "output_type": "stream",
     "text": [
      "C:\\Users\\Fatma\\Desktop\\Projets\\optibrain\\.venv\\Lib\\site-packages\\sklearn\\utils\\deprecation.py:151: FutureWarning: 'force_all_finite' was renamed to 'ensure_all_finite' in 1.6 and will be removed in 1.8.\n",
      "  warnings.warn(\n"
     ]
    }
   ],
   "source": [
    "srgm.get_best_model(X_train, y_train)"
   ]
  },
  {
   "cell_type": "code",
   "execution_count": 37,
   "id": "dabe12f8-e962-49ec-ae3b-8d8de551e816",
   "metadata": {},
   "outputs": [
    {
     "data": {
      "text/plain": [
       "<catboost.core.CatBoostClassifier at 0x1a9fa0e66f0>"
      ]
     },
     "execution_count": 37,
     "metadata": {},
     "output_type": "execute_result"
    }
   ],
   "source": [
    "srgm.model"
   ]
  },
  {
   "cell_type": "code",
   "execution_count": 38,
   "id": "cf0d3bf5-60ba-4e01-a313-b7bb01a34a5d",
   "metadata": {},
   "outputs": [
    {
     "data": {
      "text/plain": [
       "catboost    0.829726\n",
       "lgbm        0.716548\n",
       "xgboost         -inf\n",
       "dtype: float64"
      ]
     },
     "execution_count": 38,
     "metadata": {},
     "output_type": "execute_result"
    }
   ],
   "source": [
    "srgm.get_estimators_performances"
   ]
  },
  {
   "cell_type": "code",
   "execution_count": 39,
   "id": "eb5d7f6a-2487-4158-824e-f43e56006b18",
   "metadata": {},
   "outputs": [],
   "source": [
    "y_pred = srgm.model.predict(X_test)\n"
   ]
  },
  {
   "cell_type": "code",
   "execution_count": 41,
   "id": "7314b7d4-86f7-4778-bf15-a4009a25d07a",
   "metadata": {},
   "outputs": [],
   "source": [
    "y_pred = pd.DataFrame(y_pred)"
   ]
  },
  {
   "cell_type": "code",
   "execution_count": 44,
   "id": "f4a839fa-80a5-4cb2-9a0c-68b1809d9209",
   "metadata": {},
   "outputs": [],
   "source": [
    "import matplotlib.pyplot as plt\n",
    "from sklearn.metrics import confusion_matrix, ConfusionMatrixDisplay\n",
    "import numpy as np\n",
    "import pandas as pd\n",
    "\n",
    "def plot_predictions_classification(y_true, y_pred):\n",
    "    \"\"\"\n",
    "    Affiche les résultats des prédictions pour la régression ou la classification.\n",
    "    \n",
    "    :param y_true: Valeurs réelles\n",
    "    :param y_pred: Valeurs prédites\n",
    "    \"\"\"\n",
    "    if isinstance(y_true, pd.DataFrame) or isinstance(y_true, pd.Series):\n",
    "        y_true = y_true.values\n",
    "    if isinstance(y_pred, pd.DataFrame) or isinstance(y_pred, pd.Series):\n",
    "        y_pred = y_pred.values\n",
    "    cm = confusion_matrix(y_true, y_pred)\n",
    "    disp = ConfusionMatrixDisplay(confusion_matrix=cm)\n",
    "    disp.plot(cmap=plt.cm.Blues)\n",
    "    plt.title(\"Matrice de confusion\")\n",
    "    plt.grid(False)\n",
    "    plt.tight_layout()\n",
    "    plt.show()\n"
   ]
  },
  {
   "cell_type": "code",
   "execution_count": 46,
   "id": "60a0c576-5138-4281-9f59-158a6fb245d5",
   "metadata": {},
   "outputs": [
    {
     "data": {
      "image/png": "[encoded data removed]",
      "text/plain": [
       "<Figure size 640x480 with 2 Axes>"
      ]
     },
     "metadata": {},
     "output_type": "display_data"
    }
   ],
   "source": [
    "plot_predictions_classification(y_test, y_pred)"
   ]
  }
 ],
 "metadata": {
  "kernelspec": {
   "display_name": "Python 3 (ipykernel)",
   "language": "python",
   "name": "python3"
  },
  "language_info": {
   "codemirror_mode": {
    "name": "ipython",
    "version": 3
   },
   "file_extension": ".py",
   "mimetype": "text/x-python",
   "name": "python",
   "nbconvert_exporter": "python",
   "pygments_lexer": "ipython3",
   "version": "3.12.4"
  }
 },
 "nbformat": 4,
 "nbformat_minor": 5
}
